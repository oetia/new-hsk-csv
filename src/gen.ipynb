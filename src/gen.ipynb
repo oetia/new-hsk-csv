{
 "cells": [
  {
   "cell_type": "code",
   "execution_count": 1,
   "metadata": {},
   "outputs": [],
   "source": [
    "import pandas as pd\n",
    "import numpy as np\n",
    "import os"
   ]
  },
  {
   "cell_type": "code",
   "execution_count": 2,
   "metadata": {},
   "outputs": [],
   "source": [
    "\"../data/char/New-HSK-Combined-Character-List.csv\"\n",
    "all_chars = pd.read_csv(\n",
    "    os.path.join(os.curdir, \"..\", \"data\", \"char\", \"New-HSK-Combined-Character-List.csv\")\n",
    ").set_index(\"Index\")"
   ]
  },
  {
   "cell_type": "code",
   "execution_count": 3,
   "metadata": {},
   "outputs": [],
   "source": [
    "dupes_dropped = all_chars.drop_duplicates(subset=[\"Character\"]).reset_index(drop=True).rename_axis(\"Index\").drop(columns=[\"Level\"])\n",
    "dupes_dropped.index = dupes_dropped.index.astype(str).str.zfill(4)"
   ]
  },
  {
   "cell_type": "code",
   "execution_count": 4,
   "metadata": {},
   "outputs": [
    {
     "data": {
      "text/plain": [
       "(1801, 1)"
      ]
     },
     "execution_count": 4,
     "metadata": {},
     "output_type": "execute_result"
    }
   ],
   "source": [
    "dupes_dropped.shape"
   ]
  },
  {
   "cell_type": "code",
   "execution_count": 5,
   "metadata": {},
   "outputs": [],
   "source": [
    "# shuffled = dupes_dropped.sample(frac=1, random_state=np.random.RandomState(seed=42))\n",
    "shuffled = dupes_dropped.sample(frac=1, random_state=np.random.RandomState(seed=16))\n",
    "shuffled.to_csv(os.path.join(os.curdir, \"..\", \"data\", \"sets\", \"gen.csv\"))"
   ]
  },
  {
   "cell_type": "code",
   "execution_count": null,
   "metadata": {},
   "outputs": [],
   "source": []
  },
  {
   "cell_type": "code",
   "execution_count": null,
   "metadata": {},
   "outputs": [],
   "source": []
  }
 ],
 "metadata": {
  "kernelspec": {
   "display_name": "dsc80_39",
   "language": "python",
   "name": "python3"
  },
  "language_info": {
   "codemirror_mode": {
    "name": "ipython",
    "version": 3
   },
   "file_extension": ".py",
   "mimetype": "text/x-python",
   "name": "python",
   "nbconvert_exporter": "python",
   "pygments_lexer": "ipython3",
   "version": "3.8.16"
  },
  "orig_nbformat": 4
 },
 "nbformat": 4,
 "nbformat_minor": 2
}
