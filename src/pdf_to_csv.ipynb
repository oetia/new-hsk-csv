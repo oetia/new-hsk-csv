{
 "cells": [
  {
   "cell_type": "code",
   "execution_count": 28,
   "metadata": {},
   "outputs": [],
   "source": [
    "import os\n",
    "import re\n",
    "import PyPDF2"
   ]
  },
  {
   "cell_type": "code",
   "execution_count": 40,
   "metadata": {},
   "outputs": [],
   "source": [
    "def process_pdf(pdf_reader: PyPDF2.PdfReader, out_filename: str, verbose=False):\n",
    "    \n",
    "    pattern = r\"(\\d+)\\s+([\\u4e00-\\u9fff｜（）、〇¹²…\\n]+)\\s+((?:(?:(?:\\w*[āáǎàēéěèīíǐìōóǒòūúǔùüǘǚǜ][\\w']*)|la|le|zi|ma|ba|de|di|ge|jie|men|ren|ne|ya|wa|zhe|¹|²|…)[\\s｜（）·]+)+)([^\\d]+)\"\n",
    "    \n",
    "    def sprint(string): # sanity print\n",
    "        print(string) if verbose else None\n",
    "    \n",
    "    with open(out_filename, \"a+\") as out_file:\n",
    "        for page in pdf_reader.pages:\n",
    "            page_text = page.extract_text()\n",
    "\n",
    "            # since some entries are multi-lined, need to concat lines together\n",
    "            # main idea here is to pay attention to entry number\n",
    "            # we won't process an entry until we know that we have all the relevant data for that entry\n",
    "            # this can only be gauranteed until we come across the starting point of the next entry\n",
    "            current_entry = \"\"\n",
    "            for line in page_text.split(\"\\n\") + [\"0000 完了\"]: # need for last coverage\n",
    "                # data cleaning\n",
    "                line = re.sub(r\"[ ]+\", \" \", line)\n",
    "                line = re.sub(r\"\\.\\.\\.\", \"…\", line)\n",
    "\n",
    "                # check to see if we've hit the start of the next entry\n",
    "                if re.search(r\"\\d+.+[\\u4e00-\\u9fff]\", line):\n",
    "                    # if so, start processing the current entry\n",
    "                    sprint(f\"ENTRY START\\n{current_entry}\\nENTRY END\\n\\n\")\n",
    "\n",
    "                    find_result = re.findall(\n",
    "                        pattern,\n",
    "                        current_entry,\n",
    "                    )\n",
    "\n",
    "                    if len(find_result):  # check if we found a match\n",
    "                        (num, chars, pingyin, definition) = find_result[0]\n",
    "                        num = num.replace(\"\\n\", \" \").strip()\n",
    "                        chars = chars.replace(\"\\n\", \" \").strip()\n",
    "                        pingyin = pingyin.replace(\"\\n\", \" \").strip()\n",
    "                        definition = definition.replace(\"\\n\", \" \").strip()\n",
    "\n",
    "                        entry_text = f\"{num}[-]{chars}[-]{pingyin}[-]{definition}\\n\"\n",
    "                        out_file.write(entry_text)\n",
    "                    else:\n",
    "                        # check to see if we should've found a match\n",
    "                        if re.search(r\"[\\u4e00-\\u9fff]\", current_entry):\n",
    "                            entry_text = f\"***{current_entry}\\n\"\n",
    "                            out_file.write(entry_text)\n",
    "                        else:\n",
    "                            pass\n",
    "\n",
    "                    # update current_entry to be the new entry\n",
    "                    current_entry = line\n",
    "                else:\n",
    "                    # if we haven't yet stumbled across the start of the next entry, keep concatenating new lines to the current entry\n",
    "                    current_entry = f\"{current_entry}\\n{line}\""
   ]
  },
  {
   "cell_type": "code",
   "execution_count": 42,
   "metadata": {},
   "outputs": [
    {
     "data": {
      "text/plain": [
       "['/Users/elim-mbp-01/Documents/cngrind/third_pass/src/../data/pdf/New-HSK-1-Word-List.pdf',\n",
       " '/Users/elim-mbp-01/Documents/cngrind/third_pass/src/../data/pdf/New-HSK-2-Word-List.pdf',\n",
       " '/Users/elim-mbp-01/Documents/cngrind/third_pass/src/../data/pdf/New-HSK-3-Word-List.pdf',\n",
       " '/Users/elim-mbp-01/Documents/cngrind/third_pass/src/../data/pdf/New-HSK-4-Word-List.pdf',\n",
       " '/Users/elim-mbp-01/Documents/cngrind/third_pass/src/../data/pdf/New-HSK-5-Word-List.pdf',\n",
       " '/Users/elim-mbp-01/Documents/cngrind/third_pass/src/../data/pdf/New-HSK-6-Word-List.pdf']"
      ]
     },
     "execution_count": 42,
     "metadata": {},
     "output_type": "execute_result"
    }
   ],
   "source": [
    "pdf_dir = os.path.join(os.getcwd(), \"..\", \"data\", \"pdf\")\n",
    "pdf_files = sorted(\n",
    "    [os.path.join(pdf_dir, pdf_name) for pdf_name in os.listdir(pdf_dir)]\n",
    ")\n",
    "pdf_files"
   ]
  },
  {
   "cell_type": "code",
   "execution_count": 43,
   "metadata": {},
   "outputs": [
    {
     "name": "stdout",
     "output_type": "stream",
     "text": [
      "New-HSK-3-Word-List 48\n"
     ]
    }
   ],
   "source": [
    "for pdf_file in pdf_files:\n",
    "    pdf_reader = PyPDF2.PdfReader(pdf_file)\n",
    "    pdf_name = pdf_file.split(\"/\")[-1].strip(\".pdf\")\n",
    "    print(pdf_name, len(pdf_reader.pages))\n",
    "    \n",
    "    process_pdf(pdf_reader, f\"{pdf_name}.txt\", verbose=False)\n",
    "    # break"
   ]
  },
  {
   "cell_type": "code",
   "execution_count": null,
   "metadata": {},
   "outputs": [],
   "source": []
  }
 ],
 "metadata": {
  "kernelspec": {
   "display_name": "dsc80_39",
   "language": "python",
   "name": "python3"
  },
  "language_info": {
   "codemirror_mode": {
    "name": "ipython",
    "version": 3
   },
   "file_extension": ".py",
   "mimetype": "text/x-python",
   "name": "python",
   "nbconvert_exporter": "python",
   "pygments_lexer": "ipython3",
   "version": "3.8.16"
  },
  "orig_nbformat": 4
 },
 "nbformat": 4,
 "nbformat_minor": 2
}
