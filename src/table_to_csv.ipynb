{
 "cells": [
  {
   "cell_type": "code",
   "execution_count": 1,
   "metadata": {},
   "outputs": [],
   "source": [
    "import pandas as pd\n",
    "import os"
   ]
  },
  {
   "cell_type": "code",
   "execution_count": 3,
   "metadata": {},
   "outputs": [],
   "source": [
    "# \"../data/csv/New-HSK-1-Word-List.csv\"\n",
    "\n",
    "dfs = []\n",
    "\n",
    "for idx in range(1, 7):\n",
    "    filepath = os.path.join(os.getcwd(), \"..\", \"data\", \"table\", f\"New-HSK-{idx}-Word-List.txt\")\n",
    "    df = pd.read_table(\n",
    "        filepath, names=[\"Index\", \"Chinese\", \"Pingyin\", \"English\"], sep=\"\\[\\-\\]\"\n",
    "    ).set_index(\"Index\")\n",
    "    dfs.append(df)\n",
    "    \n",
    "    out_fp = os.path.join(os.getcwd(), \"..\", \"data\", \"csv\", f\"New-HSK-{idx}-Word-List.csv\")\n",
    "    df.to_csv(out_fp)"
   ]
  },
  {
   "cell_type": "code",
   "execution_count": 10,
   "metadata": {},
   "outputs": [],
   "source": [
    "dfs_w_level = []\n",
    "\n",
    "for idx in range(len(dfs)):\n",
    "    df = dfs[idx]\n",
    "    df_cp = df.copy()\n",
    "    \n",
    "    level = idx + 1\n",
    "    df_cp[\"Level\"] = level\n",
    "    \n",
    "    dfs_w_level.append(df_cp)"
   ]
  },
  {
   "cell_type": "code",
   "execution_count": 12,
   "metadata": {},
   "outputs": [
    {
     "data": {
      "text/plain": [
       "(5180, 4)"
      ]
     },
     "execution_count": 12,
     "metadata": {},
     "output_type": "execute_result"
    }
   ],
   "source": [
    "big_df = pd.concat(dfs_w_level)\n",
    "big_df.shape"
   ]
  },
  {
   "cell_type": "code",
   "execution_count": 15,
   "metadata": {},
   "outputs": [],
   "source": [
    "big_df_adjusted_index = big_df.reset_index(drop=True)\n",
    "big_df_adjusted_index.to_csv(\n",
    "    os.path.join(os.getcwd(), \"..\", \"data\", \"csv\", f\"New-HSK-Combined-Word-List.csv\")\n",
    ")"
   ]
  },
  {
   "cell_type": "code",
   "execution_count": 22,
   "metadata": {},
   "outputs": [
    {
     "name": "stdout",
     "output_type": "stream",
     "text": [
      "(476, 3)\n",
      "(735, 3)\n",
      "(926, 3)\n",
      "(952, 3)\n",
      "(1019, 3)\n",
      "(1072, 3)\n"
     ]
    }
   ],
   "source": [
    "for df in dfs:\n",
    "    print(df.shape)"
   ]
  },
  {
   "cell_type": "code",
   "execution_count": 18,
   "metadata": {},
   "outputs": [],
   "source": [
    "char_list = big_df_adjusted_index[\"Chinese\"].str.strip().tolist()\n",
    "big_string = \"\".join(char_list)"
   ]
  },
  {
   "cell_type": "code",
   "execution_count": 21,
   "metadata": {},
   "outputs": [
    {
     "data": {
      "text/plain": [
       "1782"
      ]
     },
     "execution_count": 21,
     "metadata": {},
     "output_type": "execute_result"
    }
   ],
   "source": [
    "char_set = set(big_string)\n",
    "len(char_set)"
   ]
  },
  {
   "cell_type": "code",
   "execution_count": null,
   "metadata": {},
   "outputs": [],
   "source": [
    "first_df = dfs[0]\n",
    "\n",
    "for idx in range(499):\n",
    "    print(first_df.iloc[idx])"
   ]
  }
 ],
 "metadata": {
  "kernelspec": {
   "display_name": "dsc80_39",
   "language": "python",
   "name": "python3"
  },
  "language_info": {
   "codemirror_mode": {
    "name": "ipython",
    "version": 3
   },
   "file_extension": ".py",
   "mimetype": "text/x-python",
   "name": "python",
   "nbconvert_exporter": "python",
   "pygments_lexer": "ipython3",
   "version": "3.8.16"
  },
  "orig_nbformat": 4
 },
 "nbformat": 4,
 "nbformat_minor": 2
}
