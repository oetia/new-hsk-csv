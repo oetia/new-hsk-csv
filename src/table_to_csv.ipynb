{
 "cells": [
  {
   "cell_type": "code",
   "execution_count": 1,
   "metadata": {},
   "outputs": [],
   "source": [
    "import pandas as pd\n",
    "import os"
   ]
  },
  {
   "cell_type": "code",
   "execution_count": 3,
   "metadata": {},
   "outputs": [],
   "source": [
    "# \"../data/csv/New-HSK-1-Word-List.csv\"\n",
    "\n",
    "dfs = []\n",
    "\n",
    "for idx in range(1, 7):\n",
    "    filepath = os.path.join(os.getcwd(), \"..\", \"data\", \"table\", f\"New-HSK-{idx}-Word-List.txt\")\n",
    "    df = pd.read_table(\n",
    "        filepath, names=[\"Index\", \"Chinese\", \"Pingyin\", \"English\"], sep=\"\\[\\-\\]\"\n",
    "    ).set_index(\"Index\")\n",
    "    dfs.append(df)\n",
    "    \n",
    "    out_fp = os.path.join(os.getcwd(), \"..\", \"data\", \"csv\", f\"New-HSK-{idx}-Word-List.csv\")\n",
    "    df.to_csv(out_fp)"
   ]
  },
  {
   "cell_type": "code",
   "execution_count": 10,
   "metadata": {},
   "outputs": [],
   "source": [
    "dfs_w_level = []\n",
    "\n",
    "for idx in range(len(dfs)):\n",
    "    df = dfs[idx]\n",
    "    df_cp = df.copy()\n",
    "    \n",
    "    level = idx + 1\n",
    "    df_cp[\"Level\"] = level\n",
    "    \n",
    "    dfs_w_level.append(df_cp)"
   ]
  },
  {
   "cell_type": "code",
   "execution_count": 12,
   "metadata": {},
   "outputs": [
    {
     "data": {
      "text/plain": [
       "(5180, 4)"
      ]
     },
     "execution_count": 12,
     "metadata": {},
     "output_type": "execute_result"
    }
   ],
   "source": [
    "big_df = pd.concat(dfs_w_level)\n",
    "big_df.shape"
   ]
  },
  {
   "cell_type": "code",
   "execution_count": 14,
   "metadata": {},
   "outputs": [
    {
     "data": {
      "text/html": [
       "<div>\n",
       "<style scoped>\n",
       "    .dataframe tbody tr th:only-of-type {\n",
       "        vertical-align: middle;\n",
       "    }\n",
       "\n",
       "    .dataframe tbody tr th {\n",
       "        vertical-align: top;\n",
       "    }\n",
       "\n",
       "    .dataframe thead th {\n",
       "        text-align: right;\n",
       "    }\n",
       "</style>\n",
       "<table border=\"1\" class=\"dataframe\">\n",
       "  <thead>\n",
       "    <tr style=\"text-align: right;\">\n",
       "      <th></th>\n",
       "      <th>Chinese</th>\n",
       "      <th>Pingyin</th>\n",
       "      <th>English</th>\n",
       "      <th>Level</th>\n",
       "    </tr>\n",
       "  </thead>\n",
       "  <tbody>\n",
       "    <tr>\n",
       "      <th>5175</th>\n",
       "      <td>最终</td>\n",
       "      <td>zuì zhōng</td>\n",
       "      <td>final; ultimate</td>\n",
       "      <td>6</td>\n",
       "    </tr>\n",
       "    <tr>\n",
       "      <th>5176</th>\n",
       "      <td>罪</td>\n",
       "      <td>zuì</td>\n",
       "      <td>sin; crime; guilt; fault; blame</td>\n",
       "      <td>6</td>\n",
       "    </tr>\n",
       "    <tr>\n",
       "      <th>5177</th>\n",
       "      <td>罪恶</td>\n",
       "      <td>zuì è</td>\n",
       "      <td>sin; crime; evil</td>\n",
       "      <td>6</td>\n",
       "    </tr>\n",
       "    <tr>\n",
       "      <th>5178</th>\n",
       "      <td>作</td>\n",
       "      <td>zuò</td>\n",
       "      <td>rise; compose; pretend;</td>\n",
       "      <td>6</td>\n",
       "    </tr>\n",
       "    <tr>\n",
       "      <th>5179</th>\n",
       "      <td>作废</td>\n",
       "      <td>zuòfèi</td>\n",
       "      <td>cancel, blank out</td>\n",
       "      <td>6</td>\n",
       "    </tr>\n",
       "  </tbody>\n",
       "</table>\n",
       "</div>"
      ],
      "text/plain": [
       "     Chinese     Pingyin                           English  Level\n",
       "5175      最终   zuì zhōng                   final; ultimate      6\n",
       "5176       罪         zuì   sin; crime; guilt; fault; blame      6\n",
       "5177      罪恶       zuì è                  sin; crime; evil      6\n",
       "5178       作         zuò           rise; compose; pretend;      6\n",
       "5179      作废      zuòfèi                 cancel, blank out      6"
      ]
     },
     "execution_count": 14,
     "metadata": {},
     "output_type": "execute_result"
    }
   ],
   "source": [
    "big_df_adjusted_index = big_df.reset_index(drop=True)\n",
    "big_df_adjusted_index.to_csv(\n",
    "    os.path.join(os.getcwd(), \"..\", \"data\", \"csv\", f\"New-HSK-Combined-Word-List.csv\")\n",
    ")"
   ]
  }
 ],
 "metadata": {
  "kernelspec": {
   "display_name": "dsc80_39",
   "language": "python",
   "name": "python3"
  },
  "language_info": {
   "codemirror_mode": {
    "name": "ipython",
    "version": 3
   },
   "file_extension": ".py",
   "mimetype": "text/x-python",
   "name": "python",
   "nbconvert_exporter": "python",
   "pygments_lexer": "ipython3",
   "version": "3.8.16"
  },
  "orig_nbformat": 4
 },
 "nbformat": 4,
 "nbformat_minor": 2
}
