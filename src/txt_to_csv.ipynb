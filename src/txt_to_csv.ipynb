{
 "cells": [
  {
   "cell_type": "code",
   "execution_count": 17,
   "metadata": {},
   "outputs": [],
   "source": [
    "import pandas as pd\n",
    "import os\n",
    "\n",
    "from collections import OrderedDict"
   ]
  },
  {
   "cell_type": "code",
   "execution_count": 25,
   "metadata": {},
   "outputs": [
    {
     "name": "stderr",
     "output_type": "stream",
     "text": [
      "/Users/elim-mbp-01/.pyenv/versions/3.8.16/envs/dsc80_39/lib/python3.8/site-packages/pandas/util/_decorators.py:311: ParserWarning: Falling back to the 'python' engine because the 'c' engine does not support regex separators (separators > 1 char and different from '\\s+' are interpreted as regex); you can avoid this warning by specifying engine='python'.\n",
      "  return func(*args, **kwargs)\n"
     ]
    }
   ],
   "source": [
    "# \"../data/csv/New-HSK-1-Word-List.csv\"\n",
    "\n",
    "hsk_dfs = []\n",
    "char_dfs = []\n",
    "\n",
    "for idx in range(1, 7):\n",
    "    filepath = os.path.join(os.getcwd(), \"..\", \"data\", \"txt\", f\"New-HSK-{idx}-Word-List.txt\")\n",
    "    hsk_df = pd.read_table(\n",
    "        filepath, names=[\"Index\", \"Chinese\", \"Pingyin\", \"English\"], sep=\"\\[\\-\\]\"\n",
    "    ).set_index(\"Index\")\n",
    "    hsk_dfs.append(hsk_df)\n",
    "    \n",
    "    hsk_out_fp = os.path.join(os.getcwd(), \"..\", \"data\", \"csv\", f\"New-HSK-{idx}-Word-List.csv\")\n",
    "    hsk_df.to_csv(hsk_out_fp)\n",
    "    \n",
    "    chars = list(\"\".join(hsk_df[\"Chinese\"].tolist())) # type: ignore\n",
    "    chars_od = OrderedDict.fromkeys(chars)\n",
    "    for char in [\"｜\", \"（\", \"）\", \"、\", \"〇\", \"¹\", \"²\", \"…\"]:\n",
    "        chars_od.pop(char, None)\n",
    "    chars_unique = list(chars_od)\n",
    "    \n",
    "    char_df = pd.DataFrame(chars_unique, columns=[\"Character\"]).rename_axis(\"Index\")\n",
    "    char_dfs.append(char_df)\n",
    "    \n",
    "    char_out_fp = os.path.join(os.getcwd(), \"..\", \"data\", \"char\", f\"New-HSK-{idx}-Character-List.csv\")\n",
    "    char_df.to_csv(char_out_fp)"
   ]
  },
  {
   "cell_type": "code",
   "execution_count": 26,
   "metadata": {},
   "outputs": [],
   "source": [
    "hsk_dfs_level = []\n",
    "char_dfs_level = []\n",
    "\n",
    "for idx in range(6):\n",
    "    level = idx + 1\n",
    "    \n",
    "    hsk_df = hsk_dfs[idx]\n",
    "    hsk_df_cp = hsk_df.copy()\n",
    "    hsk_df_cp[\"Level\"] = level\n",
    "    hsk_dfs_level.append(hsk_df_cp)\n",
    "    \n",
    "    char_df = char_dfs[idx]\n",
    "    char_df_cp = char_df.copy()\n",
    "    char_df_cp[\"Level\"] = level\n",
    "    char_dfs_level.append(char_df_cp)"
   ]
  },
  {
   "cell_type": "code",
   "execution_count": 29,
   "metadata": {},
   "outputs": [
    {
     "name": "stdout",
     "output_type": "stream",
     "text": [
      "(5456, 4) (4213, 2)\n"
     ]
    }
   ],
   "source": [
    "hsk_big_df = pd.concat(hsk_dfs_level)\n",
    "hsk_big_df = hsk_big_df.reset_index(drop=True).rename_axis(\"Index\")\n",
    "\n",
    "char_big_df = pd.concat(char_dfs_level)\n",
    "char_big_df = char_big_df.reset_index(drop=True).rename_axis(\"Index\")\n",
    "\n",
    "print(hsk_big_df.shape, char_big_df.shape)"
   ]
  },
  {
   "cell_type": "code",
   "execution_count": 30,
   "metadata": {},
   "outputs": [],
   "source": [
    "hsk_big_df.to_csv(\n",
    "    os.path.join(os.getcwd(), \"..\", \"data\", \"csv\", f\"New-HSK-Combined-Word-List.csv\")\n",
    ")\n",
    "\n",
    "char_big_df.to_csv(\n",
    "    os.path.join(os.getcwd(), \"..\", \"data\", \"char\", f\"New-HSK-Combined-Character-List.csv\")\n",
    ")"
   ]
  }
 ],
 "metadata": {
  "kernelspec": {
   "display_name": "dsc80_39",
   "language": "python",
   "name": "python3"
  },
  "language_info": {
   "codemirror_mode": {
    "name": "ipython",
    "version": 3
   },
   "file_extension": ".py",
   "mimetype": "text/x-python",
   "name": "python",
   "nbconvert_exporter": "python",
   "pygments_lexer": "ipython3",
   "version": "3.8.16"
  },
  "orig_nbformat": 4
 },
 "nbformat": 4,
 "nbformat_minor": 2
}
